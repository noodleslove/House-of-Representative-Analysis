{
 "cells": [
  {
   "cell_type": "markdown",
   "metadata": {},
   "source": [
    "# Stock Trades by Members of the US House of Representatives\n",
    "\n",
    "This project uses public data about the stock trades made by members of the US House of Representatives. This data is collected and maintained by Timothy Carambat as part of the [House Stock Watcher](https://housestockwatcher.com/) project. The project describes itself as follows:\n",
    "\n",
    "> With recent and ongoing investigations of incumbent congressional members being investigated for potentially violating the STOCK act. This website compiles this publicly available information in a format that is easier to digest then the original PDF source.\n",
    ">\n",
    "> Members of Congress must report periodic reports of their asset transactions. This website is purely for an informative purpose and aid in transparency.\n",
    ">\n",
    "> This site does not manipluate or censor any of the information from the original source. All data is transcribed by our community of contributors, which you can join for free by going to our transcription tool. Our moderation team takes great care in ensuring the accuracy of the information.\n",
    ">\n",
    "> This site is built and maintained by Timothy Carambat and supported with our contributors."
   ]
  },
  {
   "cell_type": "markdown",
   "metadata": {},
   "source": [
    "Some interesting questions to consider for this data set include:\n",
    "\n",
    "- Is there a difference in stock trading behavior between political parties? For example:\n",
    "    - does one party trade more often?\n",
    "    - does one party make larger trades?\n",
    "    - do the two parties invest in different stocks or sectors? For instance, do Democrats invest in Tesla more than Republicans?\n",
    "- What congresspeople have made the most trades?\n",
    "- What companies are most traded by congresspeople?\n",
    "- Is there evidence of insider trading? For example, Boeing stock dropped sharply in February 2020. Were there a suspiciously-high number of sales of Boeing before the drop?\n",
    "- When are stocks bought and sold? Is there a day of the week that is most common? Or a month of the year?"
   ]
  },
  {
   "cell_type": "markdown",
   "metadata": {},
   "source": [
    "### Getting the Data\n",
    "\n",
    "The full data set of stock trade disclosures is available as a CSV or as JSON at https://housestockwatcher.com/api.\n",
    "\n",
    "This data set does not, however, contain the political affiliation of the congresspeople. If you wish to investigate a question that relies on having this information, you'll need to find another dataset that contains it and perform a merge. *Hint*: Kaggle is a useful source of data sets."
   ]
  },
  {
   "cell_type": "markdown",
   "metadata": {},
   "source": [
    "\n",
    "### Cleaning and EDA\n",
    "\n",
    "- Clean the data.\n",
    "    - Certain fields have \"missing\" data that isn't labeled as missing. For example, there are fields with the value \"--.\" Do some exploration to find those values and convert them to null values.\n",
    "    - You may also want to clean up the date columns to enable time-series exploration.\n",
    "- Understand the data in ways relevant to your question using univariate and bivariate analysis of the data as well as aggregations.\n",
    "\n",
    "\n",
    "### Assessment of Missingness\n",
    "\n",
    "- Assess the missingness per the requirements in `project03.ipynb`\n",
    "\n",
    "### Hypothesis Test / Permutation Test\n",
    "Find a hypothesis test or permutation test to perform. You can use the questions at the top of the notebook for inspiration."
   ]
  },
  {
   "cell_type": "markdown",
   "metadata": {},
   "source": [
    "# Summary of Findings\n",
    "\n",
    "### Introduction\n",
    "TODO\n",
    "\n",
    "### Cleaning and EDA\n",
    "TODO\n",
    "\n",
    "### Assessment of Missingness\n",
    "TODO\n",
    "\n",
    "### Hypothesis Test\n",
    "TODO"
   ]
  },
  {
   "cell_type": "markdown",
   "metadata": {},
   "source": [
    "# Code"
   ]
  },
  {
   "cell_type": "code",
   "execution_count": 1,
   "metadata": {
    "ExecuteTime": {
     "end_time": "2019-10-31T23:36:28.652554Z",
     "start_time": "2019-10-31T23:36:27.180520Z"
    }
   },
   "outputs": [],
   "source": [
    "import matplotlib.pyplot as plt\n",
    "import numpy as np\n",
    "import os\n",
    "import pandas as pd\n",
    "import seaborn as sns\n",
    "%matplotlib inline\n",
    "%config InlineBackend.figure_format = 'retina'  # Higher resolution figures"
   ]
  },
  {
   "cell_type": "markdown",
   "metadata": {},
   "source": [
    "### Load datasets"
   ]
  },
  {
   "cell_type": "code",
   "execution_count": 2,
   "metadata": {},
   "outputs": [
    {
     "data": {
      "text/html": [
       "<div>\n",
       "<style scoped>\n",
       "    .dataframe tbody tr th:only-of-type {\n",
       "        vertical-align: middle;\n",
       "    }\n",
       "\n",
       "    .dataframe tbody tr th {\n",
       "        vertical-align: top;\n",
       "    }\n",
       "\n",
       "    .dataframe thead th {\n",
       "        text-align: right;\n",
       "    }\n",
       "</style>\n",
       "<table border=\"1\" class=\"dataframe\">\n",
       "  <thead>\n",
       "    <tr style=\"text-align: right;\">\n",
       "      <th></th>\n",
       "      <th>disclosure_year</th>\n",
       "      <th>disclosure_date</th>\n",
       "      <th>transaction_date</th>\n",
       "      <th>owner</th>\n",
       "      <th>ticker</th>\n",
       "      <th>asset_description</th>\n",
       "      <th>type</th>\n",
       "      <th>amount</th>\n",
       "      <th>representative</th>\n",
       "      <th>district</th>\n",
       "      <th>ptr_link</th>\n",
       "      <th>cap_gains_over_200_usd</th>\n",
       "    </tr>\n",
       "  </thead>\n",
       "  <tbody>\n",
       "    <tr>\n",
       "      <th>0</th>\n",
       "      <td>2021</td>\n",
       "      <td>10/04/2021</td>\n",
       "      <td>2021-09-27</td>\n",
       "      <td>joint</td>\n",
       "      <td>BP</td>\n",
       "      <td>BP plc</td>\n",
       "      <td>purchase</td>\n",
       "      <td>$1,001 - $15,000</td>\n",
       "      <td>Hon. Virginia Foxx</td>\n",
       "      <td>NC05</td>\n",
       "      <td>https://disclosures-clerk.house.gov/public_dis...</td>\n",
       "      <td>False</td>\n",
       "    </tr>\n",
       "    <tr>\n",
       "      <th>1</th>\n",
       "      <td>2021</td>\n",
       "      <td>10/04/2021</td>\n",
       "      <td>2021-09-13</td>\n",
       "      <td>joint</td>\n",
       "      <td>XOM</td>\n",
       "      <td>Exxon Mobil Corporation</td>\n",
       "      <td>purchase</td>\n",
       "      <td>$1,001 - $15,000</td>\n",
       "      <td>Hon. Virginia Foxx</td>\n",
       "      <td>NC05</td>\n",
       "      <td>https://disclosures-clerk.house.gov/public_dis...</td>\n",
       "      <td>False</td>\n",
       "    </tr>\n",
       "    <tr>\n",
       "      <th>2</th>\n",
       "      <td>2021</td>\n",
       "      <td>10/04/2021</td>\n",
       "      <td>2021-09-10</td>\n",
       "      <td>joint</td>\n",
       "      <td>ILPT</td>\n",
       "      <td>Industrial Logistics Properties Trust - Common...</td>\n",
       "      <td>purchase</td>\n",
       "      <td>$15,001 - $50,000</td>\n",
       "      <td>Hon. Virginia Foxx</td>\n",
       "      <td>NC05</td>\n",
       "      <td>https://disclosures-clerk.house.gov/public_dis...</td>\n",
       "      <td>False</td>\n",
       "    </tr>\n",
       "    <tr>\n",
       "      <th>3</th>\n",
       "      <td>2021</td>\n",
       "      <td>10/04/2021</td>\n",
       "      <td>2021-09-28</td>\n",
       "      <td>joint</td>\n",
       "      <td>PM</td>\n",
       "      <td>Phillip Morris International Inc</td>\n",
       "      <td>purchase</td>\n",
       "      <td>$15,001 - $50,000</td>\n",
       "      <td>Hon. Virginia Foxx</td>\n",
       "      <td>NC05</td>\n",
       "      <td>https://disclosures-clerk.house.gov/public_dis...</td>\n",
       "      <td>False</td>\n",
       "    </tr>\n",
       "    <tr>\n",
       "      <th>4</th>\n",
       "      <td>2021</td>\n",
       "      <td>10/04/2021</td>\n",
       "      <td>2021-09-17</td>\n",
       "      <td>self</td>\n",
       "      <td>BLK</td>\n",
       "      <td>BlackRock Inc</td>\n",
       "      <td>sale_partial</td>\n",
       "      <td>$1,001 - $15,000</td>\n",
       "      <td>Hon. Alan S. Lowenthal</td>\n",
       "      <td>CA47</td>\n",
       "      <td>https://disclosures-clerk.house.gov/public_dis...</td>\n",
       "      <td>False</td>\n",
       "    </tr>\n",
       "    <tr>\n",
       "      <th>5</th>\n",
       "      <td>2021</td>\n",
       "      <td>12/01/2021</td>\n",
       "      <td>2021-12-01</td>\n",
       "      <td>joint</td>\n",
       "      <td>AXP</td>\n",
       "      <td>American Express Company</td>\n",
       "      <td>purchase</td>\n",
       "      <td>$1,001 - $15,000</td>\n",
       "      <td>Hon. Aston Donald McEachin</td>\n",
       "      <td>VA04</td>\n",
       "      <td>https://disclosures-clerk.house.gov/public_dis...</td>\n",
       "      <td>False</td>\n",
       "    </tr>\n",
       "    <tr>\n",
       "      <th>6</th>\n",
       "      <td>2021</td>\n",
       "      <td>12/01/2021</td>\n",
       "      <td>2021-11-30</td>\n",
       "      <td>NaN</td>\n",
       "      <td>KPLTW</td>\n",
       "      <td>Katapult Holdings Inc - Warrant</td>\n",
       "      <td>purchase</td>\n",
       "      <td>$1,001 - $15,000</td>\n",
       "      <td>Hon. Austin Scott</td>\n",
       "      <td>GA08</td>\n",
       "      <td>https://disclosures-clerk.house.gov/public_dis...</td>\n",
       "      <td>False</td>\n",
       "    </tr>\n",
       "    <tr>\n",
       "      <th>7</th>\n",
       "      <td>2021</td>\n",
       "      <td>12/01/2021</td>\n",
       "      <td>2021-11-18</td>\n",
       "      <td>NaN</td>\n",
       "      <td>AMD</td>\n",
       "      <td>Advanced Micro Devices Inc</td>\n",
       "      <td>sale_full</td>\n",
       "      <td>$50,001 - $100,000</td>\n",
       "      <td>Hon. Thomas Suozzi</td>\n",
       "      <td>NY03</td>\n",
       "      <td>https://disclosures-clerk.house.gov/public_dis...</td>\n",
       "      <td>False</td>\n",
       "    </tr>\n",
       "    <tr>\n",
       "      <th>8</th>\n",
       "      <td>2021</td>\n",
       "      <td>12/01/2021</td>\n",
       "      <td>2021-11-18</td>\n",
       "      <td>NaN</td>\n",
       "      <td>AAPL</td>\n",
       "      <td>Apple Inc</td>\n",
       "      <td>sale_full</td>\n",
       "      <td>$50,001 - $100,000</td>\n",
       "      <td>Hon. Thomas Suozzi</td>\n",
       "      <td>NY03</td>\n",
       "      <td>https://disclosures-clerk.house.gov/public_dis...</td>\n",
       "      <td>False</td>\n",
       "    </tr>\n",
       "    <tr>\n",
       "      <th>9</th>\n",
       "      <td>2021</td>\n",
       "      <td>12/01/2021</td>\n",
       "      <td>2021-11-24</td>\n",
       "      <td>NaN</td>\n",
       "      <td>MSFT</td>\n",
       "      <td>Microsoft Corporation</td>\n",
       "      <td>purchase</td>\n",
       "      <td>$50,001 - $100,000</td>\n",
       "      <td>Hon. Thomas Suozzi</td>\n",
       "      <td>NY03</td>\n",
       "      <td>https://disclosures-clerk.house.gov/public_dis...</td>\n",
       "      <td>False</td>\n",
       "    </tr>\n",
       "  </tbody>\n",
       "</table>\n",
       "</div>"
      ],
      "text/plain": [
       "   disclosure_year disclosure_date transaction_date  owner ticker  \\\n",
       "0             2021      10/04/2021       2021-09-27  joint     BP   \n",
       "1             2021      10/04/2021       2021-09-13  joint    XOM   \n",
       "2             2021      10/04/2021       2021-09-10  joint   ILPT   \n",
       "3             2021      10/04/2021       2021-09-28  joint     PM   \n",
       "4             2021      10/04/2021       2021-09-17   self    BLK   \n",
       "5             2021      12/01/2021       2021-12-01  joint    AXP   \n",
       "6             2021      12/01/2021       2021-11-30    NaN  KPLTW   \n",
       "7             2021      12/01/2021       2021-11-18    NaN    AMD   \n",
       "8             2021      12/01/2021       2021-11-18    NaN   AAPL   \n",
       "9             2021      12/01/2021       2021-11-24    NaN   MSFT   \n",
       "\n",
       "                                   asset_description          type  \\\n",
       "0                                             BP plc      purchase   \n",
       "1                            Exxon Mobil Corporation      purchase   \n",
       "2  Industrial Logistics Properties Trust - Common...      purchase   \n",
       "3                   Phillip Morris International Inc      purchase   \n",
       "4                                      BlackRock Inc  sale_partial   \n",
       "5                           American Express Company      purchase   \n",
       "6                    Katapult Holdings Inc - Warrant      purchase   \n",
       "7                         Advanced Micro Devices Inc     sale_full   \n",
       "8                                          Apple Inc     sale_full   \n",
       "9                              Microsoft Corporation      purchase   \n",
       "\n",
       "               amount              representative district  \\\n",
       "0    $1,001 - $15,000          Hon. Virginia Foxx     NC05   \n",
       "1    $1,001 - $15,000          Hon. Virginia Foxx     NC05   \n",
       "2   $15,001 - $50,000          Hon. Virginia Foxx     NC05   \n",
       "3   $15,001 - $50,000          Hon. Virginia Foxx     NC05   \n",
       "4    $1,001 - $15,000      Hon. Alan S. Lowenthal     CA47   \n",
       "5    $1,001 - $15,000  Hon. Aston Donald McEachin     VA04   \n",
       "6    $1,001 - $15,000           Hon. Austin Scott     GA08   \n",
       "7  $50,001 - $100,000          Hon. Thomas Suozzi     NY03   \n",
       "8  $50,001 - $100,000          Hon. Thomas Suozzi     NY03   \n",
       "9  $50,001 - $100,000          Hon. Thomas Suozzi     NY03   \n",
       "\n",
       "                                            ptr_link  cap_gains_over_200_usd  \n",
       "0  https://disclosures-clerk.house.gov/public_dis...                   False  \n",
       "1  https://disclosures-clerk.house.gov/public_dis...                   False  \n",
       "2  https://disclosures-clerk.house.gov/public_dis...                   False  \n",
       "3  https://disclosures-clerk.house.gov/public_dis...                   False  \n",
       "4  https://disclosures-clerk.house.gov/public_dis...                   False  \n",
       "5  https://disclosures-clerk.house.gov/public_dis...                   False  \n",
       "6  https://disclosures-clerk.house.gov/public_dis...                   False  \n",
       "7  https://disclosures-clerk.house.gov/public_dis...                   False  \n",
       "8  https://disclosures-clerk.house.gov/public_dis...                   False  \n",
       "9  https://disclosures-clerk.house.gov/public_dis...                   False  "
      ]
     },
     "execution_count": 2,
     "metadata": {},
     "output_type": "execute_result"
    }
   ],
   "source": [
    "transactions = pd.read_csv('data/all_transactions.csv')\n",
    "transactions.head(10)"
   ]
  },
  {
   "cell_type": "markdown",
   "metadata": {},
   "source": [
    "### Cleaning and EDA"
   ]
  },
  {
   "cell_type": "code",
   "execution_count": null,
   "metadata": {
    "ExecuteTime": {
     "end_time": "2019-10-31T23:36:28.657068Z",
     "start_time": "2019-10-31T23:36:28.654650Z"
    }
   },
   "outputs": [],
   "source": [
    "# TODO"
   ]
  },
  {
   "cell_type": "code",
   "execution_count": null,
   "metadata": {},
   "outputs": [],
   "source": [
    "transactions.isna().sum()"
   ]
  },
  {
   "cell_type": "code",
   "execution_count": null,
   "metadata": {},
   "outputs": [],
   "source": [
    "transactions.info()"
   ]
  },
  {
   "cell_type": "code",
   "execution_count": 10,
   "metadata": {},
   "outputs": [
    {
     "name": "stdout",
     "output_type": "stream",
     "text": [
      "<class 'pandas.core.frame.DataFrame'>\n",
      "RangeIndex: 15674 entries, 0 to 15673\n",
      "Data columns (total 12 columns):\n",
      " #   Column                  Non-Null Count  Dtype         \n",
      "---  ------                  --------------  -----         \n",
      " 0   disclosure_year         15674 non-null  int64         \n",
      " 1   disclosure_date         15674 non-null  datetime64[ns]\n",
      " 2   transaction_date        15667 non-null  datetime64[ns]\n",
      " 3   owner                   9661 non-null   object        \n",
      " 4   ticker                  15674 non-null  object        \n",
      " 5   asset_description       15670 non-null  object        \n",
      " 6   type                    15674 non-null  object        \n",
      " 7   amount                  15674 non-null  object        \n",
      " 8   representative          15674 non-null  object        \n",
      " 9   district                15674 non-null  object        \n",
      " 10  ptr_link                15674 non-null  object        \n",
      " 11  cap_gains_over_200_usd  15674 non-null  bool          \n",
      "dtypes: bool(1), datetime64[ns](2), int64(1), object(8)\n",
      "memory usage: 1.3+ MB\n"
     ]
    }
   ],
   "source": [
    "# convert `disclosure_date`, `transaction_date` to datetime type\n",
    "\n",
    "cleaned = transactions.copy()\n",
    "cleaned['disclosure_date'] = pd.to_datetime(cleaned['disclosure_date'])\n",
    "cleaned['transaction_date'] = pd.to_datetime(cleaned['transaction_date'], errors='coerce')\n",
    "\n",
    "cleaned.info()"
   ]
  },
  {
   "cell_type": "code",
   "execution_count": 11,
   "metadata": {},
   "outputs": [
    {
     "data": {
      "text/plain": [
       "disclosure_year              0\n",
       "disclosure_date              0\n",
       "transaction_date             7\n",
       "owner                     6013\n",
       "ticker                    1296\n",
       "asset_description            4\n",
       "type                         0\n",
       "amount                       0\n",
       "representative               0\n",
       "district                     0\n",
       "ptr_link                     0\n",
       "cap_gains_over_200_usd       0\n",
       "dtype: int64"
      ]
     },
     "execution_count": 11,
     "metadata": {},
     "output_type": "execute_result"
    }
   ],
   "source": [
    "cleaned['ticker'] = cleaned['ticker'].replace('--', np.NaN)\n",
    "\n",
    "cleaned.isna().sum()"
   ]
  },
  {
   "cell_type": "code",
   "execution_count": 6,
   "metadata": {},
   "outputs": [
    {
     "data": {
      "text/plain": [
       "--       1296\n",
       "MSFT      265\n",
       "AAPL      187\n",
       "NTAP      141\n",
       "TDDXX     122\n",
       "         ... \n",
       "FSTFX       1\n",
       "IBDO        1\n",
       "XLY         1\n",
       "IVE         1\n",
       "SHYF        1\n",
       "Name: ticker, Length: 2215, dtype: int64"
      ]
     },
     "execution_count": 6,
     "metadata": {},
     "output_type": "execute_result"
    }
   ],
   "source": []
  },
  {
   "cell_type": "code",
   "execution_count": null,
   "metadata": {},
   "outputs": [],
   "source": []
  },
  {
   "cell_type": "markdown",
   "metadata": {},
   "source": [
    "### Political party dataset"
   ]
  },
  {
   "cell_type": "code",
   "execution_count": 74,
   "metadata": {},
   "outputs": [
    {
     "data": {
      "text/html": [
       "<div>\n",
       "<style scoped>\n",
       "    .dataframe tbody tr th:only-of-type {\n",
       "        vertical-align: middle;\n",
       "    }\n",
       "\n",
       "    .dataframe tbody tr th {\n",
       "        vertical-align: top;\n",
       "    }\n",
       "\n",
       "    .dataframe thead th {\n",
       "        text-align: right;\n",
       "    }\n",
       "</style>\n",
       "<table border=\"1\" class=\"dataframe\">\n",
       "  <thead>\n",
       "    <tr style=\"text-align: right;\">\n",
       "      <th></th>\n",
       "      <th>party</th>\n",
       "      <th>first_name</th>\n",
       "      <th>last_name</th>\n",
       "    </tr>\n",
       "  </thead>\n",
       "  <tbody>\n",
       "    <tr>\n",
       "      <th>0</th>\n",
       "      <td>Republican</td>\n",
       "      <td>Don</td>\n",
       "      <td>Young</td>\n",
       "    </tr>\n",
       "    <tr>\n",
       "      <th>1</th>\n",
       "      <td>Republican</td>\n",
       "      <td>Jerry</td>\n",
       "      <td>Carl</td>\n",
       "    </tr>\n",
       "    <tr>\n",
       "      <th>2</th>\n",
       "      <td>Republican</td>\n",
       "      <td>Felix</td>\n",
       "      <td>Moore</td>\n",
       "    </tr>\n",
       "    <tr>\n",
       "      <th>3</th>\n",
       "      <td>Republican</td>\n",
       "      <td>Mike</td>\n",
       "      <td>Rogers</td>\n",
       "    </tr>\n",
       "    <tr>\n",
       "      <th>4</th>\n",
       "      <td>Republican</td>\n",
       "      <td>Robert</td>\n",
       "      <td>Aderholt</td>\n",
       "    </tr>\n",
       "    <tr>\n",
       "      <th>5</th>\n",
       "      <td>Republican</td>\n",
       "      <td>Mo</td>\n",
       "      <td>Brooks</td>\n",
       "    </tr>\n",
       "    <tr>\n",
       "      <th>6</th>\n",
       "      <td>Republican</td>\n",
       "      <td>Gary</td>\n",
       "      <td>Palmer</td>\n",
       "    </tr>\n",
       "    <tr>\n",
       "      <th>7</th>\n",
       "      <td>Democrat</td>\n",
       "      <td>Terri</td>\n",
       "      <td>Sewell</td>\n",
       "    </tr>\n",
       "    <tr>\n",
       "      <th>8</th>\n",
       "      <td>Republican</td>\n",
       "      <td>Rick</td>\n",
       "      <td>Crawford</td>\n",
       "    </tr>\n",
       "    <tr>\n",
       "      <th>9</th>\n",
       "      <td>Republican</td>\n",
       "      <td>French</td>\n",
       "      <td>Hill</td>\n",
       "    </tr>\n",
       "  </tbody>\n",
       "</table>\n",
       "</div>"
      ],
      "text/plain": [
       "        party first_name last_name\n",
       "0  Republican        Don     Young\n",
       "1  Republican      Jerry      Carl\n",
       "2  Republican      Felix     Moore\n",
       "3  Republican       Mike    Rogers\n",
       "4  Republican     Robert  Aderholt\n",
       "5  Republican         Mo    Brooks\n",
       "6  Republican       Gary    Palmer\n",
       "7    Democrat      Terri    Sewell\n",
       "8  Republican       Rick  Crawford\n",
       "9  Republican     French      Hill"
      ]
     },
     "execution_count": 74,
     "metadata": {},
     "output_type": "execute_result"
    }
   ],
   "source": [
    "parties = pd.read_csv('data/us-house.csv')\n",
    "parties = parties[['party', 'first_name', 'last_name']]\n",
    "parties['party'] = parties['party'].str.capitalize()\n",
    "parties.head(10)"
   ]
  },
  {
   "cell_type": "code",
   "execution_count": null,
   "metadata": {},
   "outputs": [],
   "source": [
    "parties.isna().sum()"
   ]
  },
  {
   "cell_type": "code",
   "execution_count": null,
   "metadata": {},
   "outputs": [],
   "source": [
    "(\n",
    "    transactions\n",
    "    .loc[transactions['representative'].str.contains('|'.join(combined_names), case=False), 'representative']\n",
    "    .nunique()\n",
    ")\n"
   ]
  },
  {
   "cell_type": "code",
   "execution_count": 46,
   "metadata": {},
   "outputs": [
    {
     "data": {
      "text/html": [
       "<div>\n",
       "<style scoped>\n",
       "    .dataframe tbody tr th:only-of-type {\n",
       "        vertical-align: middle;\n",
       "    }\n",
       "\n",
       "    .dataframe tbody tr th {\n",
       "        vertical-align: top;\n",
       "    }\n",
       "\n",
       "    .dataframe thead th {\n",
       "        text-align: right;\n",
       "    }\n",
       "</style>\n",
       "<table border=\"1\" class=\"dataframe\">\n",
       "  <thead>\n",
       "    <tr style=\"text-align: right;\">\n",
       "      <th></th>\n",
       "      <th>party</th>\n",
       "      <th>name</th>\n",
       "      <th>name_slug</th>\n",
       "      <th>first_name</th>\n",
       "      <th>middle_name</th>\n",
       "      <th>last_name</th>\n",
       "      <th>name_suffix</th>\n",
       "    </tr>\n",
       "  </thead>\n",
       "  <tbody>\n",
       "  </tbody>\n",
       "</table>\n",
       "</div>"
      ],
      "text/plain": [
       "Empty DataFrame\n",
       "Columns: [party, name, name_slug, first_name, middle_name, last_name, name_suffix]\n",
       "Index: []"
      ]
     },
     "execution_count": 46,
     "metadata": {},
     "output_type": "execute_result"
    }
   ],
   "source": [
    "parties[parties['name'].str.contains('cox', case=False)]\n"
   ]
  },
  {
   "cell_type": "code",
   "execution_count": 90,
   "metadata": {},
   "outputs": [
    {
     "data": {
      "text/plain": [
       "238      Hon. Greg Gianforte\n",
       "239      Hon. Greg Gianforte\n",
       "240      Hon. Greg Gianforte\n",
       "241      Hon. Greg Gianforte\n",
       "242      Hon. Greg Gianforte\n",
       "                ...         \n",
       "15530    Hon. Greg Gianforte\n",
       "15531    Hon. Greg Gianforte\n",
       "15532    Hon. Greg Gianforte\n",
       "15533    Hon. Greg Gianforte\n",
       "15594    Hon. W. Greg Steube\n",
       "Name: representative, Length: 509, dtype: object"
      ]
     },
     "execution_count": 90,
     "metadata": {},
     "output_type": "execute_result"
    }
   ],
   "source": [
    "transactions.loc[transactions['representative'].str.contains('Greg'), 'representative']\n"
   ]
  },
  {
   "cell_type": "code",
   "execution_count": 106,
   "metadata": {},
   "outputs": [
    {
     "data": {
      "text/plain": [
       "array(['Virginia Foxx', 'Alan  Lowenthal', 'Donald McEachin',\n",
       "       'Austin Scott', 'Thomas Suozzi', 'Garret Graves',\n",
       "       'Christopher L. Jacobs', 'Susie Lee', 'TJ John (Tj) Cox',\n",
       "       'Mo Brooks', 'Robert J. Wittman', 'Vern Buchanan', 'Lois Frankel',\n",
       "       'Michael T. McCaul', 'Suzan  DelBene', 'Greg Gianforte',\n",
       "       'Lloyd  Smucker', 'Earl Blumenauer', 'James Comer',\n",
       "       'James R. Langevin', 'John Curtis', 'Trey Hollingsworth',\n",
       "       'Anthony E. Gonzalez', 'William R. Keating', 'Raul M. Grijalva',\n",
       "       'Josh Gottheimer', 'Katherine M. Clark', 'Carolyn B. Maloney',\n",
       "       'Pete Sessions', 'David B. McKinley', 'Nancy Pelosi',\n",
       "       'Steve Cohen', 'Gerald E. Connolly', 'Lloyd Doggett',\n",
       "       'David E. Price', 'Kathy Manning', 'Scott H. Peters',\n",
       "       'Sean Patrick Maloney', 'Michael  Simpson', 'Greg Steube',\n",
       "       'Donald Sternoff Honorable Beyer', 'Mark Dr Green', 'Brian Mast',\n",
       "       'Mary Gay Scanlon', 'Charles J. \"Chuck\" Fleischmann', 'Mike Kelly',\n",
       "       'Marie Newman', 'Robert C. \"Bobby\" Scott', 'Kurt Schrader',\n",
       "       'Earl Leroy Carter', 'Michael Patrick Guest', 'Hakeem  Jeffries',\n",
       "       'Rohit Khanna', 'Billy Long', 'Grace Meng', 'Peter Meijer',\n",
       "       'Richard  Allen', 'James E Hon Banks', 'Debbie Dingell',\n",
       "       'Blake Moore', 'Tom Cole', 'Neal Patrick MD, Facs Dunn',\n",
       "       'Harold Dallas Rogers', 'Fred Upton', 'Doug Lamborn',\n",
       "       'Peter J. Visclosky', 'George Holding', 'Bob Gibbs', 'Sara Jacobs',\n",
       "       'Marjorie Taylor Greene', 'David P. Joyce', 'Dwight Evans',\n",
       "       'Doris O. Matsui', 'Francis Rooney', 'Dean Phillips',\n",
       "       'Peter Welch', 'Ed Perlmutter', 'Ed Case', 'James French Hill',\n",
       "       'Gilbert Cisneros', 'Michael Conaway', 'Zoe Lofgren',\n",
       "       'Donald Sternoff Beyer', 'Cheri Bustos', 'August Lee Pfluger',\n",
       "       'John A. Yarmuth', 'Cindy Axne', 'Kevin Hern', 'Scott Franklin',\n",
       "       'Neal Patrick MD, FACS Dunn', 'Mark Green', 'John Rutherford',\n",
       "       'James E. Banks', 'Ann Wagner', 'Jamie Raskin', 'Michael Garcia',\n",
       "       'Tom Malinowski', 'Victoria Spartz', 'Patrick Fallon',\n",
       "       'Bradley  Schneider', 'Kim Dr Schrier', 'Daniel Crenshaw',\n",
       "       'David Cheston Rouzer', 'Michael C. Burgess',\n",
       "       'Maria Elvira Salazar', 'Tom Rice', 'Brian Higgins',\n",
       "       'David Kustoff', 'Susan A. Davis', 'Nicholas Van Taylor',\n",
       "       'Debbie Wasserman Schultz', 'Joe Courtney', 'Mikie Sherrill',\n",
       "       'Andrew Garbarino', 'Roger  Marshall', 'Michael Waltz',\n",
       "       'Adam B. Schiff', 'Kim Schrier', 'Lacy Clay', 'Chellie Pingree',\n",
       "       'Deborah  Ross', 'Neal Patrick Dunn MD, FACS', 'Gus M. Bilirakis',\n",
       "       'Ron Estes', 'Michael John Gallagher', 'Frank Pallone',\n",
       "       'David Madison Cawthorn', 'Greg Francis Murphy', 'Seth Moulton',\n",
       "       'Kathy Castor', 'Ashley Hinson Arenholz', 'Kenneth R. Buck',\n",
       "       'Lori Trahan', 'Judy Chu', 'Diana Harshbarger', 'Robert E. Latta',\n",
       "       \"Tom O'Halleran\", 'David P. Roe', 'Sharice Davids',\n",
       "       'Adam Kinzinger', 'Donna Shalala', 'William R. Timmons',\n",
       "       'Kenny Marchant', 'Carol Devine Miller', 'Daniel Meuser',\n",
       "       'Harley E. Rouda', 'David Trone', 'Robert B. Aderholt',\n",
       "       'Nicholas V. Taylor', 'Matt Gaetz', 'Bill Huizenga',\n",
       "       'Joseph P. Kennedy', 'John Garamendi', 'Susan  Brooks',\n",
       "       'James M. Costa', 'Abigail Spanberger', 'Linda T. Sanchez',\n",
       "       'Eleanor Holmes Norton', 'Vicente Gonzalez', 'John  Rose',\n",
       "       'Adrian Smith', 'Felix Barry Moore', 'Joseph D. Morelle',\n",
       "       'Patrick T. McHenry', 'Bill Pascrell', 'Larry Bucshon',\n",
       "       'Brad Sherman', 'Jake Auchincloss', 'Elaine Luria', 'Bill Flores',\n",
       "       'Michael Fq San Nicolas', 'John B. Larson', 'Steve Chabot',\n",
       "       'Raja Krishnamoorthi', 'Tim Burchett', 'Mario Diaz-Balart',\n",
       "       'Dan Newhouse', 'Stephanie Bice', 'Thomas Massie',\n",
       "       'James Hagedorn', 'Justin Amash'], dtype=object)"
      ]
     },
     "execution_count": 106,
     "metadata": {},
     "output_type": "execute_result"
    }
   ],
   "source": [
    "suffixs = ['Hon\\\\.', 'Mr\\\\.', 'Mrs\\\\.', 'None', 'Aston', 'S\\\\.', 'W\\\\.', 'K\\\\.']\n",
    "cleaned = transactions.copy()\n",
    "cleaned['representative'] = (cleaned['representative']\n",
    "                             .str.replace('|'.join(suffixs), '', regex=True)\n",
    "                             .str.replace('Raúl', 'Raul')\n",
    "                             .str.strip())\n",
    "\n",
    "cleaned['representative'].unique()\n"
   ]
  },
  {
   "cell_type": "code",
   "execution_count": null,
   "metadata": {},
   "outputs": [],
   "source": [
    "transactions['representative'].unique()"
   ]
  },
  {
   "cell_type": "code",
   "execution_count": 107,
   "metadata": {},
   "outputs": [
    {
     "data": {
      "text/plain": [
       "array(['Virginia', 'Alan', 'Donald', 'Austin', 'Thomas', 'Garret',\n",
       "       'Christopher', 'Susie', 'Tj', 'Mo', 'Robert', 'Vern', 'Lois',\n",
       "       'Michael', 'Suzan', 'Greg', 'Lloyd', 'Earl', 'James', 'John',\n",
       "       'Trey', 'Anthony', 'William', 'Raul', 'Josh', 'Katherine',\n",
       "       'Carolyn', 'Pete', 'David', 'Nancy', 'Steve', 'Gerald', 'Kathy',\n",
       "       'Scott', 'Sean', 'Mark', 'Brian', 'Mary', 'Charles', 'Mike',\n",
       "       'Marie', 'Kurt', 'Hakeem', 'Rohit', 'Billy', 'Grace', 'Peter',\n",
       "       'Richard', 'Debbie', 'Blake', 'Tom', 'Neal', 'Harold', 'Fred',\n",
       "       'Doug', 'George', 'Bob', 'Sara', 'Marjorie', 'Dwight', 'Doris',\n",
       "       'Francis', 'Dean', 'Ed', 'Gilbert', 'Zoe', 'Cheri', 'August',\n",
       "       'Cindy', 'Kevin', 'Ann', 'Jamie', 'Victoria', 'Patrick', 'Bradley',\n",
       "       'Kim', 'Daniel', 'Maria', 'Susan', 'Nicholas', 'Joe', 'Mikie',\n",
       "       'Andrew', 'Roger', 'Adam', 'Lacy', 'Chellie', 'Deborah', 'Gus',\n",
       "       'Ron', 'Frank', 'Seth', 'Ashley', 'Kenneth', 'Lori', 'Judy',\n",
       "       'Diana', 'Sharice', 'Donna', 'Kenny', 'Carol', 'Harley', 'Matt',\n",
       "       'Bill', 'Joseph', 'Abigail', 'Linda', 'Eleanor', 'Vicente',\n",
       "       'Adrian', 'Felix', 'Larry', 'Brad', 'Jake', 'Elaine', 'Raja',\n",
       "       'Tim', 'Mario', 'Dan', 'Stephanie', 'Justin'], dtype=object)"
      ]
     },
     "execution_count": 107,
     "metadata": {},
     "output_type": "execute_result"
    }
   ],
   "source": [
    "cleaned['first_name'] = cleaned['representative'].apply(lambda x: x.split()[0].capitalize())\n",
    "cleaned['last_name'] = cleaned['representative'].apply(lambda x: x.split()[-1].capitalize())\n",
    "\n",
    "# cleaned[cleaned['representative'].str.contains('al', case=False)]\n",
    "cleaned['first_name'].unique()\n"
   ]
  },
  {
   "cell_type": "code",
   "execution_count": 91,
   "metadata": {},
   "outputs": [
    {
     "data": {
      "text/plain": [
       "(15674, 15)"
      ]
     },
     "execution_count": 91,
     "metadata": {},
     "output_type": "execute_result"
    }
   ],
   "source": [
    "combined = cleaned.merge(parties, how='left', on=['first_name', 'last_name'])\n",
    "combined.loc[combined['party'].isna(), 'representative'].unique()\n",
    "combined.shape"
   ]
  },
  {
   "cell_type": "markdown",
   "metadata": {},
   "source": [
    "### House members dataset"
   ]
  },
  {
   "cell_type": "code",
   "execution_count": 83,
   "metadata": {},
   "outputs": [
    {
     "data": {
      "text/html": [
       "<div>\n",
       "<style scoped>\n",
       "    .dataframe tbody tr th:only-of-type {\n",
       "        vertical-align: middle;\n",
       "    }\n",
       "\n",
       "    .dataframe tbody tr th {\n",
       "        vertical-align: top;\n",
       "    }\n",
       "\n",
       "    .dataframe thead th {\n",
       "        text-align: right;\n",
       "    }\n",
       "</style>\n",
       "<table border=\"1\" class=\"dataframe\">\n",
       "  <thead>\n",
       "    <tr style=\"text-align: right;\">\n",
       "      <th></th>\n",
       "      <th>first_name</th>\n",
       "      <th>last_name</th>\n",
       "      <th>party</th>\n",
       "    </tr>\n",
       "  </thead>\n",
       "  <tbody>\n",
       "    <tr>\n",
       "      <th>0</th>\n",
       "      <td>Ralph</td>\n",
       "      <td>Abraham</td>\n",
       "      <td>Republican</td>\n",
       "    </tr>\n",
       "    <tr>\n",
       "      <th>1</th>\n",
       "      <td>Alma</td>\n",
       "      <td>Adams</td>\n",
       "      <td>Democratic</td>\n",
       "    </tr>\n",
       "    <tr>\n",
       "      <th>2</th>\n",
       "      <td>Robert</td>\n",
       "      <td>Aderholt</td>\n",
       "      <td>Republican</td>\n",
       "    </tr>\n",
       "    <tr>\n",
       "      <th>3</th>\n",
       "      <td>Pete</td>\n",
       "      <td>Aguilar</td>\n",
       "      <td>Democratic</td>\n",
       "    </tr>\n",
       "    <tr>\n",
       "      <th>4</th>\n",
       "      <td>Rick</td>\n",
       "      <td>Allen</td>\n",
       "      <td>Republican</td>\n",
       "    </tr>\n",
       "    <tr>\n",
       "      <th>5</th>\n",
       "      <td>Colin</td>\n",
       "      <td>Allred</td>\n",
       "      <td>Democratic</td>\n",
       "    </tr>\n",
       "    <tr>\n",
       "      <th>6</th>\n",
       "      <td>Justin</td>\n",
       "      <td>Amash</td>\n",
       "      <td>Independent</td>\n",
       "    </tr>\n",
       "    <tr>\n",
       "      <th>7</th>\n",
       "      <td>Mark</td>\n",
       "      <td>Amodei</td>\n",
       "      <td>Republican</td>\n",
       "    </tr>\n",
       "    <tr>\n",
       "      <th>8</th>\n",
       "      <td>Kelly</td>\n",
       "      <td>Armstrong</td>\n",
       "      <td>Republican</td>\n",
       "    </tr>\n",
       "    <tr>\n",
       "      <th>9</th>\n",
       "      <td>Jodey</td>\n",
       "      <td>Arrington</td>\n",
       "      <td>Republican</td>\n",
       "    </tr>\n",
       "  </tbody>\n",
       "</table>\n",
       "</div>"
      ],
      "text/plain": [
       "  first_name  last_name        party\n",
       "0      Ralph    Abraham   Republican\n",
       "1       Alma      Adams   Democratic\n",
       "2     Robert   Aderholt   Republican\n",
       "3       Pete    Aguilar   Democratic\n",
       "4       Rick      Allen   Republican\n",
       "5      Colin     Allred   Democratic\n",
       "6     Justin      Amash  Independent\n",
       "7       Mark     Amodei   Republican\n",
       "8      Kelly  Armstrong   Republican\n",
       "9      Jodey  Arrington   Republican"
      ]
     },
     "execution_count": 83,
     "metadata": {},
     "output_type": "execute_result"
    }
   ],
   "source": [
    "members = pd.read_csv('data/house_members_116.csv')\n",
    "members['first_name'] = members['name'].apply(\n",
    "    lambda x: x.split('-')[0].capitalize())\n",
    "members['last_name'] = members['name'].apply(\n",
    "    lambda x: x.split('-')[-1].capitalize())\n",
    "members = members.rename(columns={'current_party': 'party'})[['first_name',\n",
    "                                                              'last_name',\n",
    "                                                              'party']]\n",
    "members.head(10)"
   ]
  },
  {
   "cell_type": "code",
   "execution_count": 89,
   "metadata": {},
   "outputs": [
    {
     "data": {
      "text/html": [
       "<div>\n",
       "<style scoped>\n",
       "    .dataframe tbody tr th:only-of-type {\n",
       "        vertical-align: middle;\n",
       "    }\n",
       "\n",
       "    .dataframe tbody tr th {\n",
       "        vertical-align: top;\n",
       "    }\n",
       "\n",
       "    .dataframe thead th {\n",
       "        text-align: right;\n",
       "    }\n",
       "</style>\n",
       "<table border=\"1\" class=\"dataframe\">\n",
       "  <thead>\n",
       "    <tr style=\"text-align: right;\">\n",
       "      <th></th>\n",
       "      <th>first_name</th>\n",
       "      <th>last_name</th>\n",
       "      <th>party</th>\n",
       "    </tr>\n",
       "  </thead>\n",
       "  <tbody>\n",
       "    <tr>\n",
       "      <th>216</th>\n",
       "      <td>Gregory</td>\n",
       "      <td>Steube</td>\n",
       "      <td>Republican</td>\n",
       "    </tr>\n",
       "    <tr>\n",
       "      <th>552</th>\n",
       "      <td>W</td>\n",
       "      <td>Steube</td>\n",
       "      <td>Republican</td>\n",
       "    </tr>\n",
       "  </tbody>\n",
       "</table>\n",
       "</div>"
      ],
      "text/plain": [
       "    first_name last_name       party\n",
       "216    Gregory    Steube  Republican\n",
       "552          W    Steube  Republican"
      ]
     },
     "execution_count": 89,
     "metadata": {},
     "output_type": "execute_result"
    }
   ],
   "source": [
    "new_members = (pd.concat([members, parties])\n",
    "               .sort_values(['first_name', 'last_name'])\n",
    "               .drop_duplicates(subset=['first_name', 'last_name'])\n",
    "               .reset_index(drop=True))\n",
    "new_members.to_csv('data/cleaned_members.csv', index=False)\n",
    "\n",
    "new_members[new_members['last_name'].str.contains('Allen', case=False)]\n"
   ]
  },
  {
   "cell_type": "code",
   "execution_count": 129,
   "metadata": {},
   "outputs": [
    {
     "data": {
      "text/html": [
       "<div>\n",
       "<style scoped>\n",
       "    .dataframe tbody tr th:only-of-type {\n",
       "        vertical-align: middle;\n",
       "    }\n",
       "\n",
       "    .dataframe tbody tr th {\n",
       "        vertical-align: top;\n",
       "    }\n",
       "\n",
       "    .dataframe thead th {\n",
       "        text-align: right;\n",
       "    }\n",
       "</style>\n",
       "<table border=\"1\" class=\"dataframe\">\n",
       "  <thead>\n",
       "    <tr style=\"text-align: right;\">\n",
       "      <th></th>\n",
       "      <th>first_name</th>\n",
       "      <th>last_name</th>\n",
       "      <th>party</th>\n",
       "    </tr>\n",
       "  </thead>\n",
       "  <tbody>\n",
       "    <tr>\n",
       "      <th>358</th>\n",
       "      <td>Mario</td>\n",
       "      <td>Balart</td>\n",
       "      <td>Republican</td>\n",
       "    </tr>\n",
       "    <tr>\n",
       "      <th>359</th>\n",
       "      <td>Mario</td>\n",
       "      <td>Diaz-Balart</td>\n",
       "      <td>Republican</td>\n",
       "    </tr>\n",
       "  </tbody>\n",
       "</table>\n",
       "</div>"
      ],
      "text/plain": [
       "    first_name    last_name       party\n",
       "358      Mario       Balart  Republican\n",
       "359      Mario  Diaz-Balart  Republican"
      ]
     },
     "execution_count": 129,
     "metadata": {},
     "output_type": "execute_result"
    }
   ],
   "source": [
    "new_members = pd.read_csv('data/cleaned_members.csv')\n",
    "new_members[new_members['first_name'].str.contains('Mario', case=False)]\n"
   ]
  },
  {
   "cell_type": "code",
   "execution_count": 130,
   "metadata": {},
   "outputs": [
    {
     "data": {
      "text/html": [
       "<div>\n",
       "<style scoped>\n",
       "    .dataframe tbody tr th:only-of-type {\n",
       "        vertical-align: middle;\n",
       "    }\n",
       "\n",
       "    .dataframe tbody tr th {\n",
       "        vertical-align: top;\n",
       "    }\n",
       "\n",
       "    .dataframe thead th {\n",
       "        text-align: right;\n",
       "    }\n",
       "</style>\n",
       "<table border=\"1\" class=\"dataframe\">\n",
       "  <thead>\n",
       "    <tr style=\"text-align: right;\">\n",
       "      <th></th>\n",
       "      <th>disclosure_year</th>\n",
       "      <th>disclosure_date</th>\n",
       "      <th>transaction_date</th>\n",
       "      <th>owner</th>\n",
       "      <th>ticker</th>\n",
       "      <th>asset_description</th>\n",
       "      <th>type</th>\n",
       "      <th>amount</th>\n",
       "      <th>representative</th>\n",
       "      <th>district</th>\n",
       "      <th>ptr_link</th>\n",
       "      <th>cap_gains_over_200_usd</th>\n",
       "      <th>first_name</th>\n",
       "      <th>last_name</th>\n",
       "      <th>party</th>\n",
       "    </tr>\n",
       "  </thead>\n",
       "  <tbody>\n",
       "    <tr>\n",
       "      <th>14983</th>\n",
       "      <td>2021</td>\n",
       "      <td>05/18/2021</td>\n",
       "      <td>2021-04-22</td>\n",
       "      <td>self</td>\n",
       "      <td>--</td>\n",
       "      <td>MDLIVE, INC</td>\n",
       "      <td>sale_full</td>\n",
       "      <td>$50,001 - $100,000</td>\n",
       "      <td>Mario Diaz-Balart</td>\n",
       "      <td>FL25</td>\n",
       "      <td>https://disclosures-clerk.house.gov/public_dis...</td>\n",
       "      <td>False</td>\n",
       "      <td>Mario</td>\n",
       "      <td>Diaz-balart</td>\n",
       "      <td>NaN</td>\n",
       "    </tr>\n",
       "  </tbody>\n",
       "</table>\n",
       "</div>"
      ],
      "text/plain": [
       "       disclosure_year disclosure_date transaction_date owner ticker  \\\n",
       "14983             2021      05/18/2021       2021-04-22  self     --   \n",
       "\n",
       "      asset_description       type              amount     representative  \\\n",
       "14983       MDLIVE, INC  sale_full  $50,001 - $100,000  Mario Diaz-Balart   \n",
       "\n",
       "      district                                           ptr_link  \\\n",
       "14983     FL25  https://disclosures-clerk.house.gov/public_dis...   \n",
       "\n",
       "       cap_gains_over_200_usd first_name    last_name party  \n",
       "14983                   False      Mario  Diaz-balart   NaN  "
      ]
     },
     "execution_count": 130,
     "metadata": {},
     "output_type": "execute_result"
    }
   ],
   "source": [
    "combined[combined['last_name'].str.contains('Diaz-Balart', case=False)]"
   ]
  },
  {
   "cell_type": "code",
   "execution_count": 131,
   "metadata": {},
   "outputs": [
    {
     "data": {
      "text/plain": [
       "8"
      ]
     },
     "execution_count": 131,
     "metadata": {},
     "output_type": "execute_result"
    }
   ],
   "source": [
    "combined = cleaned.merge(new_members, how='left', on=['first_name', 'last_name'])\n",
    "combined.loc[combined['party'].isna(), 'representative'].nunique()\n"
   ]
  },
  {
   "cell_type": "code",
   "execution_count": 124,
   "metadata": {},
   "outputs": [
    {
     "data": {
      "text/html": [
       "<div>\n",
       "<style scoped>\n",
       "    .dataframe tbody tr th:only-of-type {\n",
       "        vertical-align: middle;\n",
       "    }\n",
       "\n",
       "    .dataframe tbody tr th {\n",
       "        vertical-align: top;\n",
       "    }\n",
       "\n",
       "    .dataframe thead th {\n",
       "        text-align: right;\n",
       "    }\n",
       "</style>\n",
       "<table border=\"1\" class=\"dataframe\">\n",
       "  <thead>\n",
       "    <tr style=\"text-align: right;\">\n",
       "      <th></th>\n",
       "      <th>disclosure_year</th>\n",
       "      <th>disclosure_date</th>\n",
       "      <th>transaction_date</th>\n",
       "      <th>owner</th>\n",
       "      <th>ticker</th>\n",
       "      <th>asset_description</th>\n",
       "      <th>type</th>\n",
       "      <th>amount</th>\n",
       "      <th>representative</th>\n",
       "      <th>district</th>\n",
       "      <th>ptr_link</th>\n",
       "      <th>cap_gains_over_200_usd</th>\n",
       "      <th>first_name</th>\n",
       "      <th>last_name</th>\n",
       "      <th>party</th>\n",
       "    </tr>\n",
       "  </thead>\n",
       "  <tbody>\n",
       "  </tbody>\n",
       "</table>\n",
       "</div>"
      ],
      "text/plain": [
       "Empty DataFrame\n",
       "Columns: [disclosure_year, disclosure_date, transaction_date, owner, ticker, asset_description, type, amount, representative, district, ptr_link, cap_gains_over_200_usd, first_name, last_name, party]\n",
       "Index: []"
      ]
     },
     "execution_count": 124,
     "metadata": {},
     "output_type": "execute_result"
    }
   ],
   "source": [
    "combined.loc[combined['last_name'].str.contains('O\\'Halleran')]\n"
   ]
  },
  {
   "cell_type": "markdown",
   "metadata": {},
   "source": [
    "### Assessment of Missingness"
   ]
  },
  {
   "cell_type": "code",
   "execution_count": null,
   "metadata": {
    "ExecuteTime": {
     "end_time": "2019-10-31T23:36:28.662099Z",
     "start_time": "2019-10-31T23:36:28.660016Z"
    }
   },
   "outputs": [],
   "source": [
    "# TODO"
   ]
  },
  {
   "cell_type": "markdown",
   "metadata": {},
   "source": [
    "### Hypothesis Test / Permutation Test"
   ]
  },
  {
   "cell_type": "code",
   "execution_count": null,
   "metadata": {
    "ExecuteTime": {
     "end_time": "2019-10-31T23:36:28.666489Z",
     "start_time": "2019-10-31T23:36:28.664381Z"
    }
   },
   "outputs": [],
   "source": [
    "# TODO"
   ]
  }
 ],
 "metadata": {
  "kernelspec": {
   "display_name": "Python 3.11.0 ('.venv': venv)",
   "language": "python",
   "name": "python3"
  },
  "language_info": {
   "codemirror_mode": {
    "name": "ipython",
    "version": 3
   },
   "file_extension": ".py",
   "mimetype": "text/x-python",
   "name": "python",
   "nbconvert_exporter": "python",
   "pygments_lexer": "ipython3",
   "version": "3.11.0"
  },
  "vscode": {
   "interpreter": {
    "hash": "0728d5cdfc3f87581d21f0df24e0cc83d373ee4f8d7a8ed4512a06199590a207"
   }
  }
 },
 "nbformat": 4,
 "nbformat_minor": 2
}
