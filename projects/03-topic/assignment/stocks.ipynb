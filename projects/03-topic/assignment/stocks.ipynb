{
 "cells": [
  {
   "cell_type": "markdown",
   "metadata": {},
   "source": [
    "# Stock Trades by Members of the US House of Representatives\n",
    "\n",
    "This project uses public data about the stock trades made by members of the US House of Representatives. This data is collected and maintained by Timothy Carambat as part of the [House Stock Watcher](https://housestockwatcher.com/) project. The project describes itself as follows:\n",
    "\n",
    "> With recent and ongoing investigations of incumbent congressional members being investigated for potentially violating the STOCK act. This website compiles this publicly available information in a format that is easier to digest then the original PDF source.\n",
    ">\n",
    "> Members of Congress must report periodic reports of their asset transactions. This website is purely for an informative purpose and aid in transparency.\n",
    ">\n",
    "> This site does not manipluate or censor any of the information from the original source. All data is transcribed by our community of contributors, which you can join for free by going to our transcription tool. Our moderation team takes great care in ensuring the accuracy of the information.\n",
    ">\n",
    "> This site is built and maintained by Timothy Carambat and supported with our contributors."
   ]
  },
  {
   "cell_type": "markdown",
   "metadata": {},
   "source": [
    "Some interesting questions to consider for this data set include:\n",
    "\n",
    "- Is there a difference in stock trading behavior between political parties? For example:\n",
    "    - does one party trade more often?\n",
    "    - does one party make larger trades?\n",
    "    - do the two parties invest in different stocks or sectors? For instance, do Democrats invest in Tesla more than Republicans?\n",
    "- What congresspeople have made the most trades?\n",
    "- What companies are most traded by congresspeople?\n",
    "- Is there evidence of insider trading? For example, Boeing stock dropped sharply in February 2020. Were there a suspiciously-high number of sales of Boeing before the drop?\n",
    "- When are stocks bought and sold? Is there a day of the week that is most common? Or a month of the year?"
   ]
  },
  {
   "cell_type": "markdown",
   "metadata": {},
   "source": [
    "### Getting the Data\n",
    "\n",
    "The full data set of stock trade disclosures is available as a CSV or as JSON at https://housestockwatcher.com/api.\n",
    "\n",
    "This data set does not, however, contain the political affiliation of the congresspeople. If you wish to investigate a question that relies on having this information, you'll need to find another dataset that contains it and perform a merge. *Hint*: Kaggle is a useful source of data sets."
   ]
  },
  {
   "cell_type": "markdown",
   "metadata": {},
   "source": [
    "\n",
    "### Cleaning and EDA\n",
    "\n",
    "- Clean the data.\n",
    "    - Certain fields have \"missing\" data that isn't labeled as missing. For example, there are fields with the value \"--.\" Do some exploration to find those values and convert them to null values.\n",
    "    - You may also want to clean up the date columns to enable time-series exploration.\n",
    "- Understand the data in ways relevant to your question using univariate and bivariate analysis of the data as well as aggregations.\n",
    "\n",
    "\n",
    "### Assessment of Missingness\n",
    "\n",
    "- Assess the missingness per the requirements in `project03.ipynb`\n",
    "\n",
    "### Hypothesis Test / Permutation Test\n",
    "Find a hypothesis test or permutation test to perform. You can use the questions at the top of the notebook for inspiration."
   ]
  },
  {
   "cell_type": "markdown",
   "metadata": {},
   "source": [
    "# Summary of Findings\n",
    "\n",
    "### Introduction\n",
    "TODO\n",
    "\n",
    "### Cleaning and EDA\n",
    "TODO\n",
    "\n",
    "### Assessment of Missingness\n",
    "TODO\n",
    "\n",
    "### Hypothesis Test\n",
    "TODO"
   ]
  },
  {
   "cell_type": "markdown",
   "metadata": {},
   "source": [
    "# Code"
   ]
  },
  {
   "cell_type": "code",
   "execution_count": 1,
   "metadata": {
    "ExecuteTime": {
     "end_time": "2019-10-31T23:36:28.652554Z",
     "start_time": "2019-10-31T23:36:27.180520Z"
    }
   },
   "outputs": [],
   "source": [
    "import matplotlib.pyplot as plt\n",
    "import numpy as np\n",
    "import os\n",
    "import pandas as pd\n",
    "import seaborn as sns\n",
    "%matplotlib inline\n",
    "%config InlineBackend.figure_format = 'retina'  # Higher resolution figures"
   ]
  },
  {
   "cell_type": "markdown",
   "metadata": {},
   "source": [
    "### Load transaction dataset"
   ]
  },
  {
   "cell_type": "code",
   "execution_count": 2,
   "metadata": {},
   "outputs": [
    {
     "data": {
      "text/html": [
       "<div>\n",
       "<style scoped>\n",
       "    .dataframe tbody tr th:only-of-type {\n",
       "        vertical-align: middle;\n",
       "    }\n",
       "\n",
       "    .dataframe tbody tr th {\n",
       "        vertical-align: top;\n",
       "    }\n",
       "\n",
       "    .dataframe thead th {\n",
       "        text-align: right;\n",
       "    }\n",
       "</style>\n",
       "<table border=\"1\" class=\"dataframe\">\n",
       "  <thead>\n",
       "    <tr style=\"text-align: right;\">\n",
       "      <th></th>\n",
       "      <th>disclosure_year</th>\n",
       "      <th>disclosure_date</th>\n",
       "      <th>transaction_date</th>\n",
       "      <th>owner</th>\n",
       "      <th>ticker</th>\n",
       "      <th>asset_description</th>\n",
       "      <th>type</th>\n",
       "      <th>amount</th>\n",
       "      <th>representative</th>\n",
       "      <th>district</th>\n",
       "      <th>ptr_link</th>\n",
       "      <th>cap_gains_over_200_usd</th>\n",
       "    </tr>\n",
       "  </thead>\n",
       "  <tbody>\n",
       "    <tr>\n",
       "      <th>0</th>\n",
       "      <td>2021</td>\n",
       "      <td>10/04/2021</td>\n",
       "      <td>2021-09-27</td>\n",
       "      <td>joint</td>\n",
       "      <td>BP</td>\n",
       "      <td>BP plc</td>\n",
       "      <td>purchase</td>\n",
       "      <td>$1,001 - $15,000</td>\n",
       "      <td>Hon. Virginia Foxx</td>\n",
       "      <td>NC05</td>\n",
       "      <td>https://disclosures-clerk.house.gov/public_dis...</td>\n",
       "      <td>False</td>\n",
       "    </tr>\n",
       "    <tr>\n",
       "      <th>1</th>\n",
       "      <td>2021</td>\n",
       "      <td>10/04/2021</td>\n",
       "      <td>2021-09-13</td>\n",
       "      <td>joint</td>\n",
       "      <td>XOM</td>\n",
       "      <td>Exxon Mobil Corporation</td>\n",
       "      <td>purchase</td>\n",
       "      <td>$1,001 - $15,000</td>\n",
       "      <td>Hon. Virginia Foxx</td>\n",
       "      <td>NC05</td>\n",
       "      <td>https://disclosures-clerk.house.gov/public_dis...</td>\n",
       "      <td>False</td>\n",
       "    </tr>\n",
       "    <tr>\n",
       "      <th>2</th>\n",
       "      <td>2021</td>\n",
       "      <td>10/04/2021</td>\n",
       "      <td>2021-09-10</td>\n",
       "      <td>joint</td>\n",
       "      <td>ILPT</td>\n",
       "      <td>Industrial Logistics Properties Trust - Common...</td>\n",
       "      <td>purchase</td>\n",
       "      <td>$15,001 - $50,000</td>\n",
       "      <td>Hon. Virginia Foxx</td>\n",
       "      <td>NC05</td>\n",
       "      <td>https://disclosures-clerk.house.gov/public_dis...</td>\n",
       "      <td>False</td>\n",
       "    </tr>\n",
       "    <tr>\n",
       "      <th>3</th>\n",
       "      <td>2021</td>\n",
       "      <td>10/04/2021</td>\n",
       "      <td>2021-09-28</td>\n",
       "      <td>joint</td>\n",
       "      <td>PM</td>\n",
       "      <td>Phillip Morris International Inc</td>\n",
       "      <td>purchase</td>\n",
       "      <td>$15,001 - $50,000</td>\n",
       "      <td>Hon. Virginia Foxx</td>\n",
       "      <td>NC05</td>\n",
       "      <td>https://disclosures-clerk.house.gov/public_dis...</td>\n",
       "      <td>False</td>\n",
       "    </tr>\n",
       "    <tr>\n",
       "      <th>4</th>\n",
       "      <td>2021</td>\n",
       "      <td>10/04/2021</td>\n",
       "      <td>2021-09-17</td>\n",
       "      <td>self</td>\n",
       "      <td>BLK</td>\n",
       "      <td>BlackRock Inc</td>\n",
       "      <td>sale_partial</td>\n",
       "      <td>$1,001 - $15,000</td>\n",
       "      <td>Hon. Alan S. Lowenthal</td>\n",
       "      <td>CA47</td>\n",
       "      <td>https://disclosures-clerk.house.gov/public_dis...</td>\n",
       "      <td>False</td>\n",
       "    </tr>\n",
       "  </tbody>\n",
       "</table>\n",
       "</div>"
      ],
      "text/plain": [
       "   disclosure_year disclosure_date transaction_date  owner ticker  \\\n",
       "0             2021      10/04/2021       2021-09-27  joint     BP   \n",
       "1             2021      10/04/2021       2021-09-13  joint    XOM   \n",
       "2             2021      10/04/2021       2021-09-10  joint   ILPT   \n",
       "3             2021      10/04/2021       2021-09-28  joint     PM   \n",
       "4             2021      10/04/2021       2021-09-17   self    BLK   \n",
       "\n",
       "                                   asset_description          type  \\\n",
       "0                                             BP plc      purchase   \n",
       "1                            Exxon Mobil Corporation      purchase   \n",
       "2  Industrial Logistics Properties Trust - Common...      purchase   \n",
       "3                   Phillip Morris International Inc      purchase   \n",
       "4                                      BlackRock Inc  sale_partial   \n",
       "\n",
       "              amount          representative district  \\\n",
       "0   $1,001 - $15,000      Hon. Virginia Foxx     NC05   \n",
       "1   $1,001 - $15,000      Hon. Virginia Foxx     NC05   \n",
       "2  $15,001 - $50,000      Hon. Virginia Foxx     NC05   \n",
       "3  $15,001 - $50,000      Hon. Virginia Foxx     NC05   \n",
       "4   $1,001 - $15,000  Hon. Alan S. Lowenthal     CA47   \n",
       "\n",
       "                                            ptr_link  cap_gains_over_200_usd  \n",
       "0  https://disclosures-clerk.house.gov/public_dis...                   False  \n",
       "1  https://disclosures-clerk.house.gov/public_dis...                   False  \n",
       "2  https://disclosures-clerk.house.gov/public_dis...                   False  \n",
       "3  https://disclosures-clerk.house.gov/public_dis...                   False  \n",
       "4  https://disclosures-clerk.house.gov/public_dis...                   False  "
      ]
     },
     "execution_count": 2,
     "metadata": {},
     "output_type": "execute_result"
    }
   ],
   "source": [
    "transactions = pd.read_csv('data/all_transactions.csv')\n",
    "transactions.head()"
   ]
  },
  {
   "cell_type": "markdown",
   "metadata": {},
   "source": [
    "### Cleaning and EDA"
   ]
  },
  {
   "cell_type": "code",
   "execution_count": 3,
   "metadata": {
    "ExecuteTime": {
     "end_time": "2019-10-31T23:36:28.657068Z",
     "start_time": "2019-10-31T23:36:28.654650Z"
    }
   },
   "outputs": [],
   "source": [
    "# TODO"
   ]
  },
  {
   "cell_type": "code",
   "execution_count": 4,
   "metadata": {},
   "outputs": [
    {
     "name": "stdout",
     "output_type": "stream",
     "text": [
      "<class 'pandas.core.frame.DataFrame'>\n",
      "RangeIndex: 15674 entries, 0 to 15673\n",
      "Data columns (total 12 columns):\n",
      " #   Column                  Non-Null Count  Dtype         \n",
      "---  ------                  --------------  -----         \n",
      " 0   disclosure_year         15674 non-null  int64         \n",
      " 1   disclosure_date         15674 non-null  datetime64[ns]\n",
      " 2   transaction_date        15667 non-null  datetime64[ns]\n",
      " 3   owner                   9661 non-null   object        \n",
      " 4   ticker                  14378 non-null  object        \n",
      " 5   asset_description       15670 non-null  object        \n",
      " 6   type                    15674 non-null  object        \n",
      " 7   amount                  15674 non-null  category      \n",
      " 8   representative          15674 non-null  object        \n",
      " 9   district                15674 non-null  object        \n",
      " 10  ptr_link                15674 non-null  object        \n",
      " 11  cap_gains_over_200_usd  15674 non-null  bool          \n",
      "dtypes: bool(1), category(1), datetime64[ns](2), int64(1), object(7)\n",
      "memory usage: 1.2+ MB\n"
     ]
    }
   ],
   "source": [
    "cleaned = transactions.copy()\n",
    "\n",
    "# convert `disclosure_date`, `transaction_date` to datetime type\n",
    "cleaned['disclosure_date'] = pd.to_datetime(cleaned['disclosure_date'])\n",
    "cleaned['transaction_date'] = pd.to_datetime(cleaned['transaction_date'], errors='coerce')\n",
    "\n",
    "# change `ticker` null values\n",
    "cleaned['ticker'] = cleaned['ticker'].replace('--', np.NaN)\n",
    "\n",
    "# convert `amount` to categorical type\n",
    "cleaned['amount'] = pd.Categorical(cleaned['amount'])\n",
    "\n",
    "cleaned.info()"
   ]
  },
  {
   "cell_type": "code",
   "execution_count": 5,
   "metadata": {},
   "outputs": [
    {
     "data": {
      "text/plain": [
       "disclosure_year              0\n",
       "disclosure_date              0\n",
       "transaction_date             7\n",
       "owner                     6013\n",
       "ticker                    1296\n",
       "asset_description            4\n",
       "type                         0\n",
       "amount                       0\n",
       "representative               0\n",
       "district                     0\n",
       "ptr_link                     0\n",
       "cap_gains_over_200_usd       0\n",
       "dtype: int64"
      ]
     },
     "execution_count": 5,
     "metadata": {},
     "output_type": "execute_result"
    }
   ],
   "source": [
    "cleaned.isna().sum()\n"
   ]
  },
  {
   "cell_type": "code",
   "execution_count": 6,
   "metadata": {},
   "outputs": [
    {
     "data": {
      "text/plain": [
       "0            purchase\n",
       "1            purchase\n",
       "2            purchase\n",
       "3            purchase\n",
       "4        sale_partial\n",
       "             ...     \n",
       "15669    sale_partial\n",
       "15670    sale_partial\n",
       "15671       sale_full\n",
       "15672       sale_full\n",
       "15673       sale_full\n",
       "Name: type, Length: 15674, dtype: object"
      ]
     },
     "execution_count": 6,
     "metadata": {},
     "output_type": "execute_result"
    }
   ],
   "source": [
    "cleaned['type']\n"
   ]
  },
  {
   "cell_type": "code",
   "execution_count": null,
   "metadata": {},
   "outputs": [],
   "source": []
  },
  {
   "cell_type": "markdown",
   "metadata": {},
   "source": [
    "### Combine with political affliation dataset"
   ]
  },
  {
   "cell_type": "code",
   "execution_count": null,
   "metadata": {},
   "outputs": [],
   "source": []
  },
  {
   "cell_type": "code",
   "execution_count": 7,
   "metadata": {},
   "outputs": [
    {
     "data": {
      "text/plain": [
       "0      Virginia Foxx\n",
       "1      Virginia Foxx\n",
       "2      Virginia Foxx\n",
       "3      Virginia Foxx\n",
       "4    Alan  Lowenthal\n",
       "Name: representative, dtype: object"
      ]
     },
     "execution_count": 7,
     "metadata": {},
     "output_type": "execute_result"
    }
   ],
   "source": [
    "# remove unwanted name suffixs\n",
    "suffixs = ['Hon\\\\.', 'Mr\\\\.', 'Mrs\\\\.', 'None', 'Aston', 'S\\\\.', 'W\\\\.']\n",
    "cleaned['representative'] = (cleaned['representative']\n",
    "                             .str.replace('|'.join(suffixs), '', regex=True)\n",
    "                             .str.strip())\n",
    "\n",
    "cleaned['representative'].head()\n"
   ]
  },
  {
   "cell_type": "code",
   "execution_count": 8,
   "metadata": {},
   "outputs": [
    {
     "data": {
      "text/plain": [
       "0    virginia\n",
       "1    virginia\n",
       "2    virginia\n",
       "3    virginia\n",
       "4        alan\n",
       "Name: first_name, dtype: object"
      ]
     },
     "execution_count": 8,
     "metadata": {},
     "output_type": "execute_result"
    }
   ],
   "source": [
    "# split representative name into `first_name` and `last_name` for later merge \n",
    "cleaned['first_name'] = cleaned['representative'].apply(lambda x: x.split()[0].lower())\n",
    "cleaned['last_name'] = cleaned['representative'].apply(lambda x: x.split()[-1].lower())\n",
    "\n",
    "# fix special cases\n",
    "cleaned.loc[cleaned['representative'] == 'Neal Patrick Dunn MD, FACS', 'last_name'] = 'dunn'\n",
    "\n",
    "cleaned['first_name'].head()\n"
   ]
  },
  {
   "cell_type": "code",
   "execution_count": 9,
   "metadata": {},
   "outputs": [
    {
     "data": {
      "text/html": [
       "<div>\n",
       "<style scoped>\n",
       "    .dataframe tbody tr th:only-of-type {\n",
       "        vertical-align: middle;\n",
       "    }\n",
       "\n",
       "    .dataframe tbody tr th {\n",
       "        vertical-align: top;\n",
       "    }\n",
       "\n",
       "    .dataframe thead th {\n",
       "        text-align: right;\n",
       "    }\n",
       "</style>\n",
       "<table border=\"1\" class=\"dataframe\">\n",
       "  <thead>\n",
       "    <tr style=\"text-align: right;\">\n",
       "      <th></th>\n",
       "      <th>party</th>\n",
       "      <th>first_name</th>\n",
       "      <th>last_name</th>\n",
       "    </tr>\n",
       "  </thead>\n",
       "  <tbody>\n",
       "    <tr>\n",
       "      <th>0</th>\n",
       "      <td>Republican</td>\n",
       "      <td>don</td>\n",
       "      <td>young</td>\n",
       "    </tr>\n",
       "    <tr>\n",
       "      <th>1</th>\n",
       "      <td>Republican</td>\n",
       "      <td>jerry</td>\n",
       "      <td>carl</td>\n",
       "    </tr>\n",
       "    <tr>\n",
       "      <th>2</th>\n",
       "      <td>Republican</td>\n",
       "      <td>felix</td>\n",
       "      <td>moore</td>\n",
       "    </tr>\n",
       "    <tr>\n",
       "      <th>3</th>\n",
       "      <td>Republican</td>\n",
       "      <td>mike</td>\n",
       "      <td>rogers</td>\n",
       "    </tr>\n",
       "    <tr>\n",
       "      <th>4</th>\n",
       "      <td>Republican</td>\n",
       "      <td>robert</td>\n",
       "      <td>aderholt</td>\n",
       "    </tr>\n",
       "    <tr>\n",
       "      <th>5</th>\n",
       "      <td>Republican</td>\n",
       "      <td>mo</td>\n",
       "      <td>brooks</td>\n",
       "    </tr>\n",
       "    <tr>\n",
       "      <th>6</th>\n",
       "      <td>Republican</td>\n",
       "      <td>gary</td>\n",
       "      <td>palmer</td>\n",
       "    </tr>\n",
       "    <tr>\n",
       "      <th>7</th>\n",
       "      <td>Democrat</td>\n",
       "      <td>terri</td>\n",
       "      <td>sewell</td>\n",
       "    </tr>\n",
       "    <tr>\n",
       "      <th>8</th>\n",
       "      <td>Republican</td>\n",
       "      <td>rick</td>\n",
       "      <td>crawford</td>\n",
       "    </tr>\n",
       "    <tr>\n",
       "      <th>9</th>\n",
       "      <td>Republican</td>\n",
       "      <td>french</td>\n",
       "      <td>hill</td>\n",
       "    </tr>\n",
       "  </tbody>\n",
       "</table>\n",
       "</div>"
      ],
      "text/plain": [
       "        party first_name last_name\n",
       "0  Republican        don     young\n",
       "1  Republican      jerry      carl\n",
       "2  Republican      felix     moore\n",
       "3  Republican       mike    rogers\n",
       "4  Republican     robert  aderholt\n",
       "5  Republican         mo    brooks\n",
       "6  Republican       gary    palmer\n",
       "7    Democrat      terri    sewell\n",
       "8  Republican       rick  crawford\n",
       "9  Republican     french      hill"
      ]
     },
     "execution_count": 9,
     "metadata": {},
     "output_type": "execute_result"
    }
   ],
   "source": [
    "# import member table 1\n",
    "members1 = pd.read_csv('data/us-house.csv')\n",
    "members1 = members1[['party', 'first_name', 'last_name']]\n",
    "members1['first_name'] = members1['first_name'].str.lower()\n",
    "members1['last_name'] = members1['last_name'].str.lower()\n",
    "members1['party'] = members1['party'].str.capitalize()\n",
    "\n",
    "members1.head(10)\n"
   ]
  },
  {
   "cell_type": "code",
   "execution_count": 10,
   "metadata": {},
   "outputs": [
    {
     "data": {
      "text/html": [
       "<div>\n",
       "<style scoped>\n",
       "    .dataframe tbody tr th:only-of-type {\n",
       "        vertical-align: middle;\n",
       "    }\n",
       "\n",
       "    .dataframe tbody tr th {\n",
       "        vertical-align: top;\n",
       "    }\n",
       "\n",
       "    .dataframe thead th {\n",
       "        text-align: right;\n",
       "    }\n",
       "</style>\n",
       "<table border=\"1\" class=\"dataframe\">\n",
       "  <thead>\n",
       "    <tr style=\"text-align: right;\">\n",
       "      <th></th>\n",
       "      <th>first_name</th>\n",
       "      <th>last_name</th>\n",
       "      <th>party</th>\n",
       "    </tr>\n",
       "  </thead>\n",
       "  <tbody>\n",
       "    <tr>\n",
       "      <th>0</th>\n",
       "      <td>ralph</td>\n",
       "      <td>abraham</td>\n",
       "      <td>Republican</td>\n",
       "    </tr>\n",
       "    <tr>\n",
       "      <th>1</th>\n",
       "      <td>alma</td>\n",
       "      <td>adams</td>\n",
       "      <td>Democrat</td>\n",
       "    </tr>\n",
       "    <tr>\n",
       "      <th>2</th>\n",
       "      <td>robert</td>\n",
       "      <td>aderholt</td>\n",
       "      <td>Republican</td>\n",
       "    </tr>\n",
       "    <tr>\n",
       "      <th>3</th>\n",
       "      <td>pete</td>\n",
       "      <td>aguilar</td>\n",
       "      <td>Democrat</td>\n",
       "    </tr>\n",
       "    <tr>\n",
       "      <th>4</th>\n",
       "      <td>rick</td>\n",
       "      <td>allen</td>\n",
       "      <td>Republican</td>\n",
       "    </tr>\n",
       "    <tr>\n",
       "      <th>5</th>\n",
       "      <td>colin</td>\n",
       "      <td>allred</td>\n",
       "      <td>Democrat</td>\n",
       "    </tr>\n",
       "    <tr>\n",
       "      <th>6</th>\n",
       "      <td>justin</td>\n",
       "      <td>amash</td>\n",
       "      <td>Independent</td>\n",
       "    </tr>\n",
       "    <tr>\n",
       "      <th>7</th>\n",
       "      <td>mark</td>\n",
       "      <td>amodei</td>\n",
       "      <td>Republican</td>\n",
       "    </tr>\n",
       "    <tr>\n",
       "      <th>8</th>\n",
       "      <td>kelly</td>\n",
       "      <td>armstrong</td>\n",
       "      <td>Republican</td>\n",
       "    </tr>\n",
       "    <tr>\n",
       "      <th>9</th>\n",
       "      <td>jodey</td>\n",
       "      <td>arrington</td>\n",
       "      <td>Republican</td>\n",
       "    </tr>\n",
       "  </tbody>\n",
       "</table>\n",
       "</div>"
      ],
      "text/plain": [
       "  first_name  last_name        party\n",
       "0      ralph    abraham   Republican\n",
       "1       alma      adams     Democrat\n",
       "2     robert   aderholt   Republican\n",
       "3       pete    aguilar     Democrat\n",
       "4       rick      allen   Republican\n",
       "5      colin     allred     Democrat\n",
       "6     justin      amash  Independent\n",
       "7       mark     amodei   Republican\n",
       "8      kelly  armstrong   Republican\n",
       "9      jodey  arrington   Republican"
      ]
     },
     "execution_count": 10,
     "metadata": {},
     "output_type": "execute_result"
    }
   ],
   "source": [
    "# import member table 2\n",
    "members2 = pd.read_csv('data/house_members_116.csv')\n",
    "members2['first_name'] = members2['name'].apply(\n",
    "    lambda x: x.split('-')[0].lower())\n",
    "members2['last_name'] = members2['name'].apply(\n",
    "    lambda x: x.split('-')[-1].lower())\n",
    "members2 = members2.rename(columns={'current_party': 'party'})[\n",
    "    ['first_name', 'last_name', 'party']]\n",
    "\n",
    "# unify party values\n",
    "members2.loc[members2['party'] == 'Democratic', 'party'] = 'Democrat'\n",
    "\n",
    "members2.head(10)\n"
   ]
  },
  {
   "cell_type": "code",
   "execution_count": 11,
   "metadata": {},
   "outputs": [
    {
     "data": {
      "text/plain": [
       "(547, 3)"
      ]
     },
     "execution_count": 11,
     "metadata": {},
     "output_type": "execute_result"
    }
   ],
   "source": [
    "# combine 2 member tables\n",
    "members = (pd.concat([members1, members2])\n",
    "           .sort_values(['first_name', 'last_name'])\n",
    "           .drop_duplicates(subset=['first_name', 'last_name'])\n",
    "           .reset_index(drop=True))\n",
    "\n",
    "# fix mismatch names\n",
    "members.loc[members['first_name'] == 'k', 'first_name'] = 'k.'\n",
    "members.loc[members['first_name'] == 'raul', 'first_name'] = 'raúl'\n",
    "members.loc[members['first_name'] == 'wm', 'first_name'] = 'wm.'\n",
    "members.loc[members['first_name'] == 'ro', 'first_name'] = 'rohit'\n",
    "members.loc[members['first_name'] == 'cynthia', 'first_name'] = 'cindy'\n",
    "members.loc[members['last_name'] == 'allen', 'first_name'] = 'richard'\n",
    "members.loc[members['last_name'] == 'steube', 'first_name'] = 'greg'\n",
    "members.loc[members['last_name'] == 'banks', 'first_name'] = 'james'\n",
    "members.loc[(members['first_name'] == 'j') & (\n",
    "    members['last_name'] == 'hill'), 'first_name'] = 'james'\n",
    "members.loc[(members['first_name'] == 'mike') & (\n",
    "    members['last_name'] == 'garcia'), 'first_name'] = 'michael'\n",
    "members.loc[members['last_name'] == 'crenshaw', 'first_name'] = 'daniel'\n",
    "members.loc[members['last_name'] == 'taylor', 'first_name'] = 'nicholas'\n",
    "members.loc[members['last_name'] == 'gallagher', 'first_name'] = 'michael'\n",
    "members.loc[(members['first_name'] == 'gregory') & (\n",
    "    members['last_name'] == 'murphy'), 'first_name'] = 'greg'\n",
    "members.loc[members['first_name'] == 'ashley', 'last_name'] = 'arenholz'\n",
    "members.loc[members['last_name'] == 'buck', 'first_name'] = 'kenneth'\n",
    "members.loc[members['last_name'] == 'costa', 'first_name'] = 'james'\n",
    "members.loc[members['last_name'] == 'hagedorn', 'first_name'] = 'james'\n",
    "\n",
    "# drop duplicate rows\n",
    "members = members.drop_duplicates(subset=['first_name', 'last_name'])\n",
    "\n",
    "# output cleaned representative table\n",
    "members.to_csv('data/cleaned_members.csv', index=False)\n",
    "\n",
    "members.shape\n"
   ]
  },
  {
   "cell_type": "code",
   "execution_count": 12,
   "metadata": {},
   "outputs": [
    {
     "data": {
      "text/plain": [
       "array([], dtype=object)"
      ]
     },
     "execution_count": 12,
     "metadata": {},
     "output_type": "execute_result"
    }
   ],
   "source": [
    "# transaction table with member info table\n",
    "combined = cleaned.merge(members, how='left', on=['first_name', 'last_name'])\n",
    "\n",
    "combined.loc[combined['party'].isna(), 'representative'].unique()\n"
   ]
  },
  {
   "cell_type": "code",
   "execution_count": 13,
   "metadata": {},
   "outputs": [
    {
     "data": {
      "text/plain": [
       "(15674, 15)"
      ]
     },
     "execution_count": 13,
     "metadata": {},
     "output_type": "execute_result"
    }
   ],
   "source": [
    "combined.shape"
   ]
  },
  {
   "cell_type": "code",
   "execution_count": 14,
   "metadata": {},
   "outputs": [
    {
     "data": {
      "text/plain": [
       "(15674, 12)"
      ]
     },
     "execution_count": 14,
     "metadata": {},
     "output_type": "execute_result"
    }
   ],
   "source": [
    "transactions.shape"
   ]
  },
  {
   "cell_type": "markdown",
   "metadata": {},
   "source": [
    "### Assessment of Missingness"
   ]
  },
  {
   "cell_type": "code",
   "execution_count": null,
   "metadata": {
    "ExecuteTime": {
     "end_time": "2019-10-31T23:36:28.662099Z",
     "start_time": "2019-10-31T23:36:28.660016Z"
    }
   },
   "outputs": [],
   "source": [
    "# TODO"
   ]
  },
  {
   "cell_type": "markdown",
   "metadata": {},
   "source": [
    "### Hypothesis Test / Permutation Test"
   ]
  },
  {
   "cell_type": "code",
   "execution_count": null,
   "metadata": {
    "ExecuteTime": {
     "end_time": "2019-10-31T23:36:28.666489Z",
     "start_time": "2019-10-31T23:36:28.664381Z"
    }
   },
   "outputs": [],
   "source": [
    "# TODO"
   ]
  }
 ],
 "metadata": {
  "kernelspec": {
   "display_name": "Python 3.11.0 ('.venv': venv)",
   "language": "python",
   "name": "python3"
  },
  "language_info": {
   "codemirror_mode": {
    "name": "ipython",
    "version": 3
   },
   "file_extension": ".py",
   "mimetype": "text/x-python",
   "name": "python",
   "nbconvert_exporter": "python",
   "pygments_lexer": "ipython3",
   "version": "3.11.0"
  },
  "vscode": {
   "interpreter": {
    "hash": "0728d5cdfc3f87581d21f0df24e0cc83d373ee4f8d7a8ed4512a06199590a207"
   }
  }
 },
 "nbformat": 4,
 "nbformat_minor": 2
}
